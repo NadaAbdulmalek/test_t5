{
 "cells": [
  {
   "cell_type": "markdown",
   "metadata": {
    "id": "4TflBwn4kNdJ"
   },
   "source": [
    "## Objective\n",
    "* The objective of this exercise is to explore and visualize the Traffic Index dataset to gain insights and understand the patterns in the data."
   ]
  },
  {
   "cell_type": "markdown",
   "metadata": {
    "id": "8vb3xNKsoP0r"
   },
   "source": [
    "##Dataset Description"
   ]
  },
  {
   "cell_type": "markdown",
   "metadata": {
    "id": "FQjSVR4h8fu8"
   },
   "source": [
    "| Column Name | Description | Data Type |\n",
    "| :---------------- | :------: | ----: |\n",
    "|   City  |   Name of the city\t   | Object |\n",
    "| Datetime           |   Date and time of the data entry\t   | Object |\n",
    "|  TrafficIndexLive    |  Real-time traffic index\t   | Int |\n",
    "|  Jamscount |  Number of traffic jams\t   | Int |\n",
    "|   JamsDelay  |   Total delay caused by traffic jams (in minutes)\t   | Float |\n",
    "|JamsLength           |   Total length of traffic jams (in kilometers)\t   | Float |\n",
    "|  TrafficIndexWeekAgo    |  Traffic index one week ago\t   | Int |\n",
    "|  TravelTimeHistoric |  Historical average travel time (in minutes)\t   | Float |\n",
    "|   TravelTimeLive  |   Real-time travel time (in minutes)\t   | Float |\n"
   ]
  },
  {
   "cell_type": "markdown",
   "metadata": {
    "id": "WBNuyQVhlpj5"
   },
   "source": [
    "# Tasks"
   ]
  },
  {
   "cell_type": "markdown",
   "metadata": {
    "id": "hkp41fRQoUSj"
   },
   "source": [
    "## 1. Exploratory Data Analysis (EDA)"
   ]
  },
  {
   "cell_type": "markdown",
   "metadata": {
    "id": "RQpjcBLfoZgr"
   },
   "source": [
    "### Perform summary statistics on the dataset."
   ]
  },
  {
   "cell_type": "code",
   "execution_count": 1,
   "metadata": {
    "id": "9CIk-QkApKLp"
   },
   "outputs": [],
   "source": [
    "import pandas as pd\n",
    "df = pd.read_csv('Task2Dataset.csv')"
   ]
  },
  {
   "cell_type": "code",
   "execution_count": 3,
   "metadata": {},
   "outputs": [
    {
     "data": {
      "text/html": [
       "<div>\n",
       "<style scoped>\n",
       "    .dataframe tbody tr th:only-of-type {\n",
       "        vertical-align: middle;\n",
       "    }\n",
       "\n",
       "    .dataframe tbody tr th {\n",
       "        vertical-align: top;\n",
       "    }\n",
       "\n",
       "    .dataframe thead th {\n",
       "        text-align: right;\n",
       "    }\n",
       "</style>\n",
       "<table border=\"1\" class=\"dataframe\">\n",
       "  <thead>\n",
       "    <tr style=\"text-align: right;\">\n",
       "      <th></th>\n",
       "      <th>City</th>\n",
       "      <th>Datetime</th>\n",
       "      <th>TrafficIndexLive</th>\n",
       "      <th>JamsCount</th>\n",
       "      <th>JamsDelay</th>\n",
       "      <th>JamsLength</th>\n",
       "      <th>TrafficIndexWeekAgo</th>\n",
       "      <th>TravelTimeHistoric</th>\n",
       "      <th>TravelTimeLive</th>\n",
       "    </tr>\n",
       "  </thead>\n",
       "  <tbody>\n",
       "    <tr>\n",
       "      <th>0</th>\n",
       "      <td>Abudhabi</td>\n",
       "      <td>2023-07-07 08:01:30</td>\n",
       "      <td>6</td>\n",
       "      <td>4</td>\n",
       "      <td>15.6</td>\n",
       "      <td>0.7</td>\n",
       "      <td>13</td>\n",
       "      <td>59.611918</td>\n",
       "      <td>54.803617</td>\n",
       "    </tr>\n",
       "    <tr>\n",
       "      <th>1</th>\n",
       "      <td>Abudhabi</td>\n",
       "      <td>2023-07-07 09:01:30</td>\n",
       "      <td>7</td>\n",
       "      <td>7</td>\n",
       "      <td>20.5</td>\n",
       "      <td>1.7</td>\n",
       "      <td>8</td>\n",
       "      <td>60.221387</td>\n",
       "      <td>56.118629</td>\n",
       "    </tr>\n",
       "    <tr>\n",
       "      <th>2</th>\n",
       "      <td>Abudhabi</td>\n",
       "      <td>2023-07-07 10:46:30</td>\n",
       "      <td>7</td>\n",
       "      <td>8</td>\n",
       "      <td>25.0</td>\n",
       "      <td>2.8</td>\n",
       "      <td>6</td>\n",
       "      <td>59.161978</td>\n",
       "      <td>55.518834</td>\n",
       "    </tr>\n",
       "    <tr>\n",
       "      <th>3</th>\n",
       "      <td>Abudhabi</td>\n",
       "      <td>2023-07-07 11:16:30</td>\n",
       "      <td>8</td>\n",
       "      <td>11</td>\n",
       "      <td>30.6</td>\n",
       "      <td>5.5</td>\n",
       "      <td>6</td>\n",
       "      <td>59.738138</td>\n",
       "      <td>56.413917</td>\n",
       "    </tr>\n",
       "    <tr>\n",
       "      <th>4</th>\n",
       "      <td>Abudhabi</td>\n",
       "      <td>2023-07-07 12:01:30</td>\n",
       "      <td>8</td>\n",
       "      <td>20</td>\n",
       "      <td>62.1</td>\n",
       "      <td>6.5</td>\n",
       "      <td>5</td>\n",
       "      <td>58.958314</td>\n",
       "      <td>56.059246</td>\n",
       "    </tr>\n",
       "    <tr>\n",
       "      <th>...</th>\n",
       "      <td>...</td>\n",
       "      <td>...</td>\n",
       "      <td>...</td>\n",
       "      <td>...</td>\n",
       "      <td>...</td>\n",
       "      <td>...</td>\n",
       "      <td>...</td>\n",
       "      <td>...</td>\n",
       "      <td>...</td>\n",
       "    </tr>\n",
       "    <tr>\n",
       "      <th>66634</th>\n",
       "      <td>Riyadh</td>\n",
       "      <td>2023-12-15 03:01:30</td>\n",
       "      <td>8</td>\n",
       "      <td>33</td>\n",
       "      <td>127.8</td>\n",
       "      <td>20.4</td>\n",
       "      <td>8</td>\n",
       "      <td>63.926569</td>\n",
       "      <td>63.245473</td>\n",
       "    </tr>\n",
       "    <tr>\n",
       "      <th>66635</th>\n",
       "      <td>Riyadh</td>\n",
       "      <td>2023-12-15 04:31:30</td>\n",
       "      <td>6</td>\n",
       "      <td>27</td>\n",
       "      <td>87.0</td>\n",
       "      <td>13.8</td>\n",
       "      <td>5</td>\n",
       "      <td>59.182641</td>\n",
       "      <td>60.012955</td>\n",
       "    </tr>\n",
       "    <tr>\n",
       "      <th>66636</th>\n",
       "      <td>Riyadh</td>\n",
       "      <td>2023-12-15 05:01:30</td>\n",
       "      <td>3</td>\n",
       "      <td>17</td>\n",
       "      <td>49.8</td>\n",
       "      <td>6.7</td>\n",
       "      <td>1</td>\n",
       "      <td>57.746816</td>\n",
       "      <td>57.561438</td>\n",
       "    </tr>\n",
       "    <tr>\n",
       "      <th>66637</th>\n",
       "      <td>Riyadh</td>\n",
       "      <td>2023-12-15 06:01:30</td>\n",
       "      <td>0</td>\n",
       "      <td>16</td>\n",
       "      <td>61.3</td>\n",
       "      <td>4.3</td>\n",
       "      <td>0</td>\n",
       "      <td>56.535277</td>\n",
       "      <td>55.463218</td>\n",
       "    </tr>\n",
       "    <tr>\n",
       "      <th>66638</th>\n",
       "      <td>Riyadh</td>\n",
       "      <td>2023-12-15 07:01:30</td>\n",
       "      <td>0</td>\n",
       "      <td>15</td>\n",
       "      <td>39.5</td>\n",
       "      <td>5.2</td>\n",
       "      <td>0</td>\n",
       "      <td>56.126417</td>\n",
       "      <td>54.886055</td>\n",
       "    </tr>\n",
       "  </tbody>\n",
       "</table>\n",
       "<p>66639 rows × 9 columns</p>\n",
       "</div>"
      ],
      "text/plain": [
       "           City             Datetime  TrafficIndexLive  JamsCount  JamsDelay  \\\n",
       "0      Abudhabi  2023-07-07 08:01:30                 6          4       15.6   \n",
       "1      Abudhabi  2023-07-07 09:01:30                 7          7       20.5   \n",
       "2      Abudhabi  2023-07-07 10:46:30                 7          8       25.0   \n",
       "3      Abudhabi  2023-07-07 11:16:30                 8         11       30.6   \n",
       "4      Abudhabi  2023-07-07 12:01:30                 8         20       62.1   \n",
       "...         ...                  ...               ...        ...        ...   \n",
       "66634    Riyadh  2023-12-15 03:01:30                 8         33      127.8   \n",
       "66635    Riyadh  2023-12-15 04:31:30                 6         27       87.0   \n",
       "66636    Riyadh  2023-12-15 05:01:30                 3         17       49.8   \n",
       "66637    Riyadh  2023-12-15 06:01:30                 0         16       61.3   \n",
       "66638    Riyadh  2023-12-15 07:01:30                 0         15       39.5   \n",
       "\n",
       "       JamsLength  TrafficIndexWeekAgo  TravelTimeHistoric  TravelTimeLive  \n",
       "0             0.7                   13           59.611918       54.803617  \n",
       "1             1.7                    8           60.221387       56.118629  \n",
       "2             2.8                    6           59.161978       55.518834  \n",
       "3             5.5                    6           59.738138       56.413917  \n",
       "4             6.5                    5           58.958314       56.059246  \n",
       "...           ...                  ...                 ...             ...  \n",
       "66634        20.4                    8           63.926569       63.245473  \n",
       "66635        13.8                    5           59.182641       60.012955  \n",
       "66636         6.7                    1           57.746816       57.561438  \n",
       "66637         4.3                    0           56.535277       55.463218  \n",
       "66638         5.2                    0           56.126417       54.886055  \n",
       "\n",
       "[66639 rows x 9 columns]"
      ]
     },
     "execution_count": 3,
     "metadata": {},
     "output_type": "execute_result"
    }
   ],
   "source": [
    "df"
   ]
  },
  {
   "cell_type": "code",
   "execution_count": 5,
   "metadata": {},
   "outputs": [
    {
     "data": {
      "text/html": [
       "<div>\n",
       "<style scoped>\n",
       "    .dataframe tbody tr th:only-of-type {\n",
       "        vertical-align: middle;\n",
       "    }\n",
       "\n",
       "    .dataframe tbody tr th {\n",
       "        vertical-align: top;\n",
       "    }\n",
       "\n",
       "    .dataframe thead th {\n",
       "        text-align: right;\n",
       "    }\n",
       "</style>\n",
       "<table border=\"1\" class=\"dataframe\">\n",
       "  <thead>\n",
       "    <tr style=\"text-align: right;\">\n",
       "      <th></th>\n",
       "      <th>City</th>\n",
       "      <th>Datetime</th>\n",
       "      <th>TrafficIndexLive</th>\n",
       "      <th>JamsCount</th>\n",
       "      <th>JamsDelay</th>\n",
       "      <th>JamsLength</th>\n",
       "      <th>TrafficIndexWeekAgo</th>\n",
       "      <th>TravelTimeHistoric</th>\n",
       "      <th>TravelTimeLive</th>\n",
       "    </tr>\n",
       "  </thead>\n",
       "  <tbody>\n",
       "    <tr>\n",
       "      <th>0</th>\n",
       "      <td>Abudhabi</td>\n",
       "      <td>2023-07-07 08:01:30</td>\n",
       "      <td>6</td>\n",
       "      <td>4</td>\n",
       "      <td>15.6</td>\n",
       "      <td>0.7</td>\n",
       "      <td>13</td>\n",
       "      <td>59.611918</td>\n",
       "      <td>54.803617</td>\n",
       "    </tr>\n",
       "    <tr>\n",
       "      <th>1</th>\n",
       "      <td>Abudhabi</td>\n",
       "      <td>2023-07-07 09:01:30</td>\n",
       "      <td>7</td>\n",
       "      <td>7</td>\n",
       "      <td>20.5</td>\n",
       "      <td>1.7</td>\n",
       "      <td>8</td>\n",
       "      <td>60.221387</td>\n",
       "      <td>56.118629</td>\n",
       "    </tr>\n",
       "    <tr>\n",
       "      <th>2</th>\n",
       "      <td>Abudhabi</td>\n",
       "      <td>2023-07-07 10:46:30</td>\n",
       "      <td>7</td>\n",
       "      <td>8</td>\n",
       "      <td>25.0</td>\n",
       "      <td>2.8</td>\n",
       "      <td>6</td>\n",
       "      <td>59.161978</td>\n",
       "      <td>55.518834</td>\n",
       "    </tr>\n",
       "    <tr>\n",
       "      <th>3</th>\n",
       "      <td>Abudhabi</td>\n",
       "      <td>2023-07-07 11:16:30</td>\n",
       "      <td>8</td>\n",
       "      <td>11</td>\n",
       "      <td>30.6</td>\n",
       "      <td>5.5</td>\n",
       "      <td>6</td>\n",
       "      <td>59.738138</td>\n",
       "      <td>56.413917</td>\n",
       "    </tr>\n",
       "    <tr>\n",
       "      <th>4</th>\n",
       "      <td>Abudhabi</td>\n",
       "      <td>2023-07-07 12:01:30</td>\n",
       "      <td>8</td>\n",
       "      <td>20</td>\n",
       "      <td>62.1</td>\n",
       "      <td>6.5</td>\n",
       "      <td>5</td>\n",
       "      <td>58.958314</td>\n",
       "      <td>56.059246</td>\n",
       "    </tr>\n",
       "  </tbody>\n",
       "</table>\n",
       "</div>"
      ],
      "text/plain": [
       "       City             Datetime  TrafficIndexLive  JamsCount  JamsDelay  \\\n",
       "0  Abudhabi  2023-07-07 08:01:30                 6          4       15.6   \n",
       "1  Abudhabi  2023-07-07 09:01:30                 7          7       20.5   \n",
       "2  Abudhabi  2023-07-07 10:46:30                 7          8       25.0   \n",
       "3  Abudhabi  2023-07-07 11:16:30                 8         11       30.6   \n",
       "4  Abudhabi  2023-07-07 12:01:30                 8         20       62.1   \n",
       "\n",
       "   JamsLength  TrafficIndexWeekAgo  TravelTimeHistoric  TravelTimeLive  \n",
       "0         0.7                   13           59.611918       54.803617  \n",
       "1         1.7                    8           60.221387       56.118629  \n",
       "2         2.8                    6           59.161978       55.518834  \n",
       "3         5.5                    6           59.738138       56.413917  \n",
       "4         6.5                    5           58.958314       56.059246  "
      ]
     },
     "execution_count": 5,
     "metadata": {},
     "output_type": "execute_result"
    }
   ],
   "source": [
    "df.head()"
   ]
  },
  {
   "cell_type": "code",
   "execution_count": 7,
   "metadata": {},
   "outputs": [
    {
     "data": {
      "text/html": [
       "<div>\n",
       "<style scoped>\n",
       "    .dataframe tbody tr th:only-of-type {\n",
       "        vertical-align: middle;\n",
       "    }\n",
       "\n",
       "    .dataframe tbody tr th {\n",
       "        vertical-align: top;\n",
       "    }\n",
       "\n",
       "    .dataframe thead th {\n",
       "        text-align: right;\n",
       "    }\n",
       "</style>\n",
       "<table border=\"1\" class=\"dataframe\">\n",
       "  <thead>\n",
       "    <tr style=\"text-align: right;\">\n",
       "      <th></th>\n",
       "      <th>City</th>\n",
       "      <th>Datetime</th>\n",
       "      <th>TrafficIndexLive</th>\n",
       "      <th>JamsCount</th>\n",
       "      <th>JamsDelay</th>\n",
       "      <th>JamsLength</th>\n",
       "      <th>TrafficIndexWeekAgo</th>\n",
       "      <th>TravelTimeHistoric</th>\n",
       "      <th>TravelTimeLive</th>\n",
       "    </tr>\n",
       "  </thead>\n",
       "  <tbody>\n",
       "    <tr>\n",
       "      <th>66634</th>\n",
       "      <td>Riyadh</td>\n",
       "      <td>2023-12-15 03:01:30</td>\n",
       "      <td>8</td>\n",
       "      <td>33</td>\n",
       "      <td>127.8</td>\n",
       "      <td>20.4</td>\n",
       "      <td>8</td>\n",
       "      <td>63.926569</td>\n",
       "      <td>63.245473</td>\n",
       "    </tr>\n",
       "    <tr>\n",
       "      <th>66635</th>\n",
       "      <td>Riyadh</td>\n",
       "      <td>2023-12-15 04:31:30</td>\n",
       "      <td>6</td>\n",
       "      <td>27</td>\n",
       "      <td>87.0</td>\n",
       "      <td>13.8</td>\n",
       "      <td>5</td>\n",
       "      <td>59.182641</td>\n",
       "      <td>60.012955</td>\n",
       "    </tr>\n",
       "    <tr>\n",
       "      <th>66636</th>\n",
       "      <td>Riyadh</td>\n",
       "      <td>2023-12-15 05:01:30</td>\n",
       "      <td>3</td>\n",
       "      <td>17</td>\n",
       "      <td>49.8</td>\n",
       "      <td>6.7</td>\n",
       "      <td>1</td>\n",
       "      <td>57.746816</td>\n",
       "      <td>57.561438</td>\n",
       "    </tr>\n",
       "    <tr>\n",
       "      <th>66637</th>\n",
       "      <td>Riyadh</td>\n",
       "      <td>2023-12-15 06:01:30</td>\n",
       "      <td>0</td>\n",
       "      <td>16</td>\n",
       "      <td>61.3</td>\n",
       "      <td>4.3</td>\n",
       "      <td>0</td>\n",
       "      <td>56.535277</td>\n",
       "      <td>55.463218</td>\n",
       "    </tr>\n",
       "    <tr>\n",
       "      <th>66638</th>\n",
       "      <td>Riyadh</td>\n",
       "      <td>2023-12-15 07:01:30</td>\n",
       "      <td>0</td>\n",
       "      <td>15</td>\n",
       "      <td>39.5</td>\n",
       "      <td>5.2</td>\n",
       "      <td>0</td>\n",
       "      <td>56.126417</td>\n",
       "      <td>54.886055</td>\n",
       "    </tr>\n",
       "  </tbody>\n",
       "</table>\n",
       "</div>"
      ],
      "text/plain": [
       "         City             Datetime  TrafficIndexLive  JamsCount  JamsDelay  \\\n",
       "66634  Riyadh  2023-12-15 03:01:30                 8         33      127.8   \n",
       "66635  Riyadh  2023-12-15 04:31:30                 6         27       87.0   \n",
       "66636  Riyadh  2023-12-15 05:01:30                 3         17       49.8   \n",
       "66637  Riyadh  2023-12-15 06:01:30                 0         16       61.3   \n",
       "66638  Riyadh  2023-12-15 07:01:30                 0         15       39.5   \n",
       "\n",
       "       JamsLength  TrafficIndexWeekAgo  TravelTimeHistoric  TravelTimeLive  \n",
       "66634        20.4                    8           63.926569       63.245473  \n",
       "66635        13.8                    5           59.182641       60.012955  \n",
       "66636         6.7                    1           57.746816       57.561438  \n",
       "66637         4.3                    0           56.535277       55.463218  \n",
       "66638         5.2                    0           56.126417       54.886055  "
      ]
     },
     "execution_count": 7,
     "metadata": {},
     "output_type": "execute_result"
    }
   ],
   "source": [
    "df.tail()"
   ]
  },
  {
   "cell_type": "code",
   "execution_count": 9,
   "metadata": {},
   "outputs": [
    {
     "name": "stdout",
     "output_type": "stream",
     "text": [
      "<class 'pandas.core.frame.DataFrame'>\n",
      "RangeIndex: 66639 entries, 0 to 66638\n",
      "Data columns (total 9 columns):\n",
      " #   Column               Non-Null Count  Dtype  \n",
      "---  ------               --------------  -----  \n",
      " 0   City                 66639 non-null  object \n",
      " 1   Datetime             66639 non-null  object \n",
      " 2   TrafficIndexLive     66639 non-null  int64  \n",
      " 3   JamsCount            66639 non-null  int64  \n",
      " 4   JamsDelay            66639 non-null  float64\n",
      " 5   JamsLength           66639 non-null  float64\n",
      " 6   TrafficIndexWeekAgo  66639 non-null  int64  \n",
      " 7   TravelTimeHistoric   62772 non-null  float64\n",
      " 8   TravelTimeLive       62772 non-null  float64\n",
      "dtypes: float64(4), int64(3), object(2)\n",
      "memory usage: 4.6+ MB\n"
     ]
    }
   ],
   "source": [
    "df.info()"
   ]
  },
  {
   "cell_type": "code",
   "execution_count": 11,
   "metadata": {},
   "outputs": [
    {
     "data": {
      "text/html": [
       "<div>\n",
       "<style scoped>\n",
       "    .dataframe tbody tr th:only-of-type {\n",
       "        vertical-align: middle;\n",
       "    }\n",
       "\n",
       "    .dataframe tbody tr th {\n",
       "        vertical-align: top;\n",
       "    }\n",
       "\n",
       "    .dataframe thead th {\n",
       "        text-align: right;\n",
       "    }\n",
       "</style>\n",
       "<table border=\"1\" class=\"dataframe\">\n",
       "  <thead>\n",
       "    <tr style=\"text-align: right;\">\n",
       "      <th></th>\n",
       "      <th>TrafficIndexLive</th>\n",
       "      <th>JamsCount</th>\n",
       "      <th>JamsDelay</th>\n",
       "      <th>JamsLength</th>\n",
       "      <th>TrafficIndexWeekAgo</th>\n",
       "      <th>TravelTimeHistoric</th>\n",
       "      <th>TravelTimeLive</th>\n",
       "    </tr>\n",
       "  </thead>\n",
       "  <tbody>\n",
       "    <tr>\n",
       "      <th>count</th>\n",
       "      <td>66639.000000</td>\n",
       "      <td>66639.000000</td>\n",
       "      <td>66639.000000</td>\n",
       "      <td>66639.000000</td>\n",
       "      <td>66639.000000</td>\n",
       "      <td>62772.000000</td>\n",
       "      <td>62772.000000</td>\n",
       "    </tr>\n",
       "    <tr>\n",
       "      <th>mean</th>\n",
       "      <td>14.043113</td>\n",
       "      <td>74.278531</td>\n",
       "      <td>288.353877</td>\n",
       "      <td>49.316135</td>\n",
       "      <td>13.981737</td>\n",
       "      <td>70.706601</td>\n",
       "      <td>70.048451</td>\n",
       "    </tr>\n",
       "    <tr>\n",
       "      <th>std</th>\n",
       "      <td>13.488906</td>\n",
       "      <td>107.452022</td>\n",
       "      <td>470.013224</td>\n",
       "      <td>85.352525</td>\n",
       "      <td>13.454922</td>\n",
       "      <td>10.588384</td>\n",
       "      <td>11.966725</td>\n",
       "    </tr>\n",
       "    <tr>\n",
       "      <th>min</th>\n",
       "      <td>0.000000</td>\n",
       "      <td>0.000000</td>\n",
       "      <td>0.000000</td>\n",
       "      <td>0.000000</td>\n",
       "      <td>0.000000</td>\n",
       "      <td>49.381346</td>\n",
       "      <td>46.723235</td>\n",
       "    </tr>\n",
       "    <tr>\n",
       "      <th>25%</th>\n",
       "      <td>3.000000</td>\n",
       "      <td>9.000000</td>\n",
       "      <td>27.700000</td>\n",
       "      <td>3.000000</td>\n",
       "      <td>3.000000</td>\n",
       "      <td>63.142591</td>\n",
       "      <td>60.712805</td>\n",
       "    </tr>\n",
       "    <tr>\n",
       "      <th>50%</th>\n",
       "      <td>10.000000</td>\n",
       "      <td>29.000000</td>\n",
       "      <td>95.700000</td>\n",
       "      <td>12.200000</td>\n",
       "      <td>10.000000</td>\n",
       "      <td>68.894790</td>\n",
       "      <td>68.247303</td>\n",
       "    </tr>\n",
       "    <tr>\n",
       "      <th>75%</th>\n",
       "      <td>21.000000</td>\n",
       "      <td>95.000000</td>\n",
       "      <td>336.600000</td>\n",
       "      <td>53.500000</td>\n",
       "      <td>21.000000</td>\n",
       "      <td>76.250975</td>\n",
       "      <td>77.043739</td>\n",
       "    </tr>\n",
       "    <tr>\n",
       "      <th>max</th>\n",
       "      <td>138.000000</td>\n",
       "      <td>1359.000000</td>\n",
       "      <td>9989.400000</td>\n",
       "      <td>1173.900000</td>\n",
       "      <td>138.000000</td>\n",
       "      <td>120.140593</td>\n",
       "      <td>134.484139</td>\n",
       "    </tr>\n",
       "  </tbody>\n",
       "</table>\n",
       "</div>"
      ],
      "text/plain": [
       "       TrafficIndexLive     JamsCount     JamsDelay    JamsLength  \\\n",
       "count      66639.000000  66639.000000  66639.000000  66639.000000   \n",
       "mean          14.043113     74.278531    288.353877     49.316135   \n",
       "std           13.488906    107.452022    470.013224     85.352525   \n",
       "min            0.000000      0.000000      0.000000      0.000000   \n",
       "25%            3.000000      9.000000     27.700000      3.000000   \n",
       "50%           10.000000     29.000000     95.700000     12.200000   \n",
       "75%           21.000000     95.000000    336.600000     53.500000   \n",
       "max          138.000000   1359.000000   9989.400000   1173.900000   \n",
       "\n",
       "       TrafficIndexWeekAgo  TravelTimeHistoric  TravelTimeLive  \n",
       "count         66639.000000        62772.000000    62772.000000  \n",
       "mean             13.981737           70.706601       70.048451  \n",
       "std              13.454922           10.588384       11.966725  \n",
       "min               0.000000           49.381346       46.723235  \n",
       "25%               3.000000           63.142591       60.712805  \n",
       "50%              10.000000           68.894790       68.247303  \n",
       "75%              21.000000           76.250975       77.043739  \n",
       "max             138.000000          120.140593      134.484139  "
      ]
     },
     "execution_count": 11,
     "metadata": {},
     "output_type": "execute_result"
    }
   ],
   "source": [
    "df.describe()"
   ]
  },
  {
   "cell_type": "code",
   "execution_count": 19,
   "metadata": {},
   "outputs": [
    {
     "data": {
      "text/plain": [
       "City                    object\n",
       "Datetime                object\n",
       "TrafficIndexLive         int64\n",
       "JamsCount                int64\n",
       "JamsDelay              float64\n",
       "JamsLength             float64\n",
       "TrafficIndexWeekAgo      int64\n",
       "TravelTimeHistoric     float64\n",
       "TravelTimeLive         float64\n",
       "dtype: object"
      ]
     },
     "execution_count": 19,
     "metadata": {},
     "output_type": "execute_result"
    }
   ],
   "source": [
    "df.dtypes"
   ]
  },
  {
   "cell_type": "markdown",
   "metadata": {
    "id": "OjwISK8nocUT"
   },
   "source": [
    "### Identify and analyze patterns in the data."
   ]
  },
  {
   "cell_type": "code",
   "execution_count": null,
   "metadata": {},
   "outputs": [],
   "source": []
  },
  {
   "cell_type": "code",
   "execution_count": null,
   "metadata": {
    "id": "gw8jkuYIpKeH"
   },
   "outputs": [],
   "source": []
  },
  {
   "cell_type": "markdown",
   "metadata": {
    "id": "4k-cDvL8oflR"
   },
   "source": [
    "### Visualize the distribution of key variables (e.g., Traffic_Index, Date)."
   ]
  },
  {
   "cell_type": "code",
   "execution_count": 31,
   "metadata": {},
   "outputs": [],
   "source": [
    "# df['Datetime'].to_numerical()"
   ]
  },
  {
   "cell_type": "code",
   "execution_count": 49,
   "metadata": {
    "id": "V7I156lepKv1"
   },
   "outputs": [],
   "source": [
    "df = df['Datetime'].date\n",
    "\n",
    "import matplotlib.pyplot as plt\n",
    "plt.plot(df['TrafficIndexLive'], df['Datetime']);\n",
    "plt.show"
   ]
  },
  {
   "cell_type": "code",
   "execution_count": null,
   "metadata": {},
   "outputs": [],
   "source": []
  },
  {
   "cell_type": "markdown",
   "metadata": {
    "id": "Lz4jQtNBoih-"
   },
   "source": [
    "### Explore relationships between variables (e.g., Traffic_Index vs. Weather_Condition).\n"
   ]
  },
  {
   "cell_type": "code",
   "execution_count": 57,
   "metadata": {
    "id": "2Txh8eI1pLJQ"
   },
   "outputs": [],
   "source": [
    "import matplotlib.pyplot as plt\n",
    "\n",
    "Weather = pd.Series(['0', '0.25', '0.5', '0.75', '1'])\n",
    "df = pd.DataFrame({'Weather': df['Weather'], 'Traffic_Index': df['TrafficIndexLive']})\n",
    "\n",
    "plt.plot(df['Weather'], df['TrafficIndexLive']);\n",
    "plt.show"
   ]
  },
  {
   "cell_type": "markdown",
   "metadata": {
    "id": "mZiDh1gronRD"
   },
   "source": [
    "## 2. Data Visualization"
   ]
  },
  {
   "cell_type": "markdown",
   "metadata": {
    "id": "WL4wC3iSqWuO"
   },
   "source": [
    "* Ensure the visualizations are clear and informative."
   ]
  },
  {
   "cell_type": "markdown",
   "metadata": {
    "id": "VfUFvWxUopoh"
   },
   "source": [
    "### Create visualizations to illustrate the findings from the EDA.\n"
   ]
  },
  {
   "cell_type": "code",
   "execution_count": null,
   "metadata": {
    "id": "KAlacPHypMVh"
   },
   "outputs": [],
   "source": []
  },
  {
   "cell_type": "markdown",
   "metadata": {
    "id": "G4KCbzg4osSW"
   },
   "source": [
    "### Use appropriate plots such as histograms, bar charts, pie charts, scatter plots, and heatmaps."
   ]
  },
  {
   "cell_type": "code",
   "execution_count": null,
   "metadata": {
    "id": "IKyAKt5apMp4"
   },
   "outputs": [],
   "source": [
    "import matplotlib.pyplot as plt\n",
    "\n",
    "plt.plot(df[''], df['']);\n",
    "plt.show"
   ]
  },
  {
   "cell_type": "markdown",
   "metadata": {
    "id": "breh9YkZoxiT"
   },
   "source": [
    "## 3. Insights and Conclusions"
   ]
  },
  {
   "cell_type": "markdown",
   "metadata": {
    "id": "a9akovSwo5l2"
   },
   "source": [
    "* <h3>Summarize the key insights gained from the data analysis.<h3/>\n",
    "* <h3>Draw conclusions based on the patterns observed in the data.<h3/>"
   ]
  }
 ],
 "metadata": {
  "colab": {
   "provenance": []
  },
  "kernelspec": {
   "display_name": "Python 3 (ipykernel)",
   "language": "python",
   "name": "python3"
  },
  "language_info": {
   "codemirror_mode": {
    "name": "ipython",
    "version": 3
   },
   "file_extension": ".py",
   "mimetype": "text/x-python",
   "name": "python",
   "nbconvert_exporter": "python",
   "pygments_lexer": "ipython3",
   "version": "3.12.4"
  }
 },
 "nbformat": 4,
 "nbformat_minor": 4
}
